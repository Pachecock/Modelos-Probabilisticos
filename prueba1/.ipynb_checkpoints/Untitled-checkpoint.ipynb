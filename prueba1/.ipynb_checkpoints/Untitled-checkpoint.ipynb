{
 "cells": [
  {
   "cell_type": "code",
   "execution_count": 1,
   "metadata": {},
   "outputs": [
    {
     "name": "stdout",
     "output_type": "stream",
     "text": [
      "            sum_sq    df          F    PR(>F)\n",
      "opt       0.921891   5.0   6.083930  0.000059\n",
      "ocu       0.153172   1.0   5.054229  0.026784\n",
      "fin       0.153592   1.0   5.068060  0.026581\n",
      "tam       0.703123   1.0  23.200949  0.000005\n",
      "Residual  3.000273  99.0        NaN       NaN\n",
      "opt es significativo\n",
      "ocu es significativo\n",
      "fin es significativo\n",
      "tam es significativo\n",
      "Residual no es significativo\n"
     ]
    }
   ],
   "source": [
    "import statsmodels.api as sm\n",
    "from statsmodels.formula.api import ols\n",
    "from numpy import isnan\n",
    "import pandas as pd\n",
    "import ssl\n",
    "\n",
    "if getattr(ssl, '_create_unverified_context', None):\n",
    "    ssl._create_default_https_context = ssl._create_unverified_context\n",
    "o = pd.read_csv(\"https://raw.githubusercontent.com/mayraberrones94/Modelos-Probabilisticos/master/prueba1/todo-exp.csv\")\n",
    "d = pd.DataFrame(o, columns = [\"opt\", \"ocu\", \"fin\", \"tam\", \"dev\"])\n",
    "d = d.dropna() \n",
    "m = ols('dev ~ opt + ocu + fin + tam', data = d).fit() \n",
    "a = sm.stats.anova_lm(m, typ = 2)\n",
    "print(a)\n",
    "n = len(a)\n",
    "alpha = 0.01\n",
    "for i in range(n):\n",
    "    print(\"{:s} {:s}es significativo\".format(a.index[i], \"\" if a['PR(>F)'][i] < alpha else \"no \"))"
   ]
  },
  {
   "cell_type": "code",
   "execution_count": null,
   "metadata": {},
   "outputs": [],
   "source": []
  }
 ],
 "metadata": {
  "kernelspec": {
   "display_name": "Python 3",
   "language": "python",
   "name": "python3"
  },
  "language_info": {
   "codemirror_mode": {
    "name": "ipython",
    "version": 3
   },
   "file_extension": ".py",
   "mimetype": "text/x-python",
   "name": "python",
   "nbconvert_exporter": "python",
   "pygments_lexer": "ipython3",
   "version": "3.7.1"
  }
 },
 "nbformat": 4,
 "nbformat_minor": 2
}
