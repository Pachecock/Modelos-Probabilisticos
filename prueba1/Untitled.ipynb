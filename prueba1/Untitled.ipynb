{
 "cells": [
  {
   "cell_type": "code",
   "execution_count": 2,
   "metadata": {},
   "outputs": [
    {
     "name": "stdout",
     "output_type": "stream",
     "text": [
      "            sum_sq    df          F    PR(>F)\n",
      "opt       0.921891   5.0   6.083930  0.000059\n",
      "ocu       0.153172   1.0   5.054229  0.026784\n",
      "fin       0.153592   1.0   5.068060  0.026581\n",
      "tam       0.703123   1.0  23.200949  0.000005\n",
      "Residual  3.000273  99.0        NaN       NaN\n",
      "opt es significativo\n",
      "ocu no es significativo\n",
      "fin no es significativo\n",
      "tam es significativo\n",
      "Residual no es significativo\n"
     ]
    }
   ],
   "source": [
    "import statsmodels.api as sm\n",
    "from statsmodels.formula.api import ols\n",
    "from numpy import isnan\n",
    "import pandas as pd\n",
    "import ssl\n",
    "\n",
    "if getattr(ssl, '_create_unverified_context', None):\n",
    "    ssl._create_default_https_context = ssl._create_unverified_context\n",
    "o = pd.read_csv(\"https://raw.githubusercontent.com/mayraberrones94/Modelos-Probabilisticos/master/prueba1/todo-exp.csv\")\n",
    "d = pd.DataFrame(o, columns = [\"opt\", \"ocu\", \"fin\", \"tam\", \"dev\"])\n",
    "d = d.dropna() \n",
    "m = ols('dev ~ opt + ocu + fin + tam', data = d).fit() \n",
    "a = sm.stats.anova_lm(m, typ = 2)\n",
    "print(a)\n",
    "n = len(a)\n",
    "alpha = 0.01\n",
    "for i in range(n):\n",
    "    print(\"{:s} {:s}es significativo\".format(a.index[i], \"\" if a['PR(>F)'][i] < alpha else \"no \"))"
   ]
  },
  {
   "cell_type": "code",
   "execution_count": 4,
   "metadata": {},
   "outputs": [
    {
     "name": "stdout",
     "output_type": "stream",
     "text": [
      "            sum_sq    df          F        PR(>F)\n",
      "opt       0.921891   5.0   7.412980  9.102429e-06\n",
      "ocu       0.153172   1.0   6.158339  1.514811e-02\n",
      "ocu:opt   0.321331   5.0   2.583844  3.209023e-02\n",
      "tam       0.703123   1.0  28.269257  9.131070e-07\n",
      "tam:opt   0.450718   5.0   3.624250  5.215736e-03\n",
      "ocu:tam   0.002861   1.0   0.115009  7.353894e-01\n",
      "fin       0.153592   1.0   6.175191  1.501485e-02\n",
      "opt:fin   0.120670   5.0   0.970311  4.410231e-01\n",
      "ocu:fin   0.058291   1.0   2.343597  1.296951e-01\n",
      "tam:fin   0.031742   1.0   1.276179  2.619450e-01\n",
      "Residual  2.014661  81.0        NaN           NaN\n",
      "opt es significativo\n",
      "ocu NO es significativo\n",
      "ocu:opt NO es significativo\n",
      "tam es significativo\n",
      "tam:opt es significativo\n",
      "ocu:tam NO es significativo\n",
      "fin NO es significativo\n",
      "opt:fin NO es significativo\n",
      "ocu:fin NO es significativo\n",
      "tam:fin NO es significativo\n",
      "Residual NO es significativo\n"
     ]
    }
   ],
   "source": [
    "\n",
    "m = ols('dev ~ ocu * tam + ocu * opt + opt * fin + ocu * fin + tam * fin + tam * opt', \\\n",
    "        data = d).fit() \n",
    "a = sm.stats.anova_lm(m, typ = 2)\n",
    "print(a)\n",
    "n = len(a)\n",
    "alpha = 0.01\n",
    "for i in range(n):\n",
    "    print(\"{:s} {:s}es significativo\".format(a.index[i], \"\" if a['PR(>F)'][i] < alpha else \"NO \"))"
   ]
  },
  {
   "cell_type": "code",
   "execution_count": 15,
   "metadata": {},
   "outputs": [
    {
     "name": "stdout",
     "output_type": "stream",
     "text": [
      "            sum_sq    df          F    PR(>F)\n",
      "opt       0.921891   5.0   5.792251  0.000099\n",
      "fin       0.155680   2.0   2.445347  0.091918\n",
      "ocu       0.703123   1.0  22.088637  0.000008\n",
      "Residual  3.151357  99.0        NaN       NaN\n",
      "opt es significativo\n",
      "fin no es significativo\n",
      "ocu es significativo\n",
      "Residual no es significativo\n"
     ]
    }
   ],
   "source": [
    "import statsmodels.api as sm\n",
    "from statsmodels.formula.api import ols\n",
    "from numpy import isnan\n",
    "import pandas as pd\n",
    "import ssl\n",
    "\n",
    "if getattr(ssl, '_create_unverified_context', None):\n",
    "    ssl._create_default_https_context = ssl._create_unverified_context\n",
    "o = pd.read_csv(\"https://raw.githubusercontent.com/mayraberrones94/Modelos-Probabilisticos/master/prueba1/todos-exp2.csv\")\n",
    "d = pd.DataFrame(o, columns = [\"opt\", \"fin\", \"tam\", \"acc\"])\n",
    "d = d.dropna() \n",
    "m = ols('acc ~ opt + tam + fin', data = d).fit() \n",
    "a = sm.stats.anova_lm(m, typ = 2)\n",
    "print(a)\n",
    "n = len(a)\n",
    "alpha = 0.01\n",
    "for i in range(n):\n",
    "    print(\"{:s} {:s}es significativo\".format(a.index[i], \"\" if a['PR(>F)'][i] < alpha else \"no \"))"
   ]
  },
  {
   "cell_type": "code",
   "execution_count": null,
   "metadata": {},
   "outputs": [],
   "source": []
  }
 ],
 "metadata": {
  "kernelspec": {
   "display_name": "Python 3",
   "language": "python",
   "name": "python3"
  },
  "language_info": {
   "codemirror_mode": {
    "name": "ipython",
    "version": 3
   },
   "file_extension": ".py",
   "mimetype": "text/x-python",
   "name": "python",
   "nbconvert_exporter": "python",
   "pygments_lexer": "ipython3",
   "version": "3.7.1"
  }
 },
 "nbformat": 4,
 "nbformat_minor": 2
}
